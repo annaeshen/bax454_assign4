{
 "cells": [
  {
   "cell_type": "markdown",
   "metadata": {},
   "source": [
    "# Page 61\n",
    "                    \n",
    "* 1. In Section 1.12.1.2, the reader was reminded that the results of a cross- validation are random, due to the random partitioning into training and test sets. Try doing several runs of the linear and k-NN code in that section, comparing results.\n",
    "                    \n",
    "* 2. Extend (1.28) to include interaction terms for age and gender, and age2 and gender. Run the new model, and find the estimated effect of being female, for a 32-year-old person with a Master’s degree.\n",
    "                    \n",
    "* 3. Consider the bodyfat data mentioned in Section 1.2. Use lm() to form a prediction equation for density from the other variables (skipping the first three), and comment on whether use of indirect methods in this way seems feasible.\n",
    "                    \n",
    "* 4. In Section 1.19.5.2, we gave this intuitive explanation:\n",
    "                    \n",
    "* In other words, the national mean height is a weighted average of the state means, with the weight for each state being its proportion of the national population. Replace state by gender in the following.\n",
    "\n",
    "     (a)  Write English prose that relates the overall mean height of people and the gender-specific mean heights.\n",
    "     (b)  Write English prose that relates the overall proportion of people taller than 70 inches to the gender-specific proportions.\n",
    "    \n",
    "# Page 120\n",
    "\n",
    "* 1. Consider the census data in Section 1.16.1.\n",
    "    (a)  Form an approximate 95% confidence interval for β6 in the model (1.28).    \n",
    "    (b)  Form an approximate 95% confidence interval for the gender effect for Master’s degree holders, β6 + β7, in the model (1.28).                        \n",
    "                                         \n",
    "* 2. The full bikeshare dataset spans 3 years’ time. Our analyses here have only used the first year. Extend the analysis in Section 2.8.5 to the full data set, adding dummy variables indicating the second and third year. Form an approximate 95% confidence interval for the difference between the coefficients of these two dummies.\n",
    "                    \n",
    "* 3. Suppose we are studying growth patterns in children, at k particular ages. Denote the height of the ith child in our sample data at age j by Hij, with Hi = (Hi1,...,Hik)′ denoting the data for child i. Suppose the population distribution of each Hi is k-variate normal with mean vector μ and covariance matrix Σ. Say we are interested in successive differences in heights,Dij =Hi,j+1−Hij, j=1,2,...,k−1. DefineDi =(Di1,...,Dik)′. Explain why each Di is (k−1)-variate normal, and derive matrix expressions for the mean vector and covariance matrices.\n",
    "                    \n",
    "* 4. In the simulation in Section 2.9.3, it is claimed that ρ2 = 0.50. Confirm this through derivation."
   ]
  },
  {
   "cell_type": "code",
   "execution_count": null,
   "metadata": {
    "collapsed": true
   },
   "outputs": [],
   "source": []
  }
 ],
 "metadata": {
  "kernelspec": {
   "display_name": "Python 3",
   "language": "python",
   "name": "python3"
  },
  "language_info": {
   "codemirror_mode": {
    "name": "ipython",
    "version": 3
   },
   "file_extension": ".py",
   "mimetype": "text/x-python",
   "name": "python",
   "nbconvert_exporter": "python",
   "pygments_lexer": "ipython3",
   "version": "3.6.1"
  }
 },
 "nbformat": 4,
 "nbformat_minor": 2
}
